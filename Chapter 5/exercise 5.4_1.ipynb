{
 "cells": [
  {
   "cell_type": "code",
   "execution_count": 1,
   "metadata": {},
   "outputs": [],
   "source": [
    "class YearsChanger(object):\n",
    "    def __init__ (self, value, scale):\n",
    "        if scale.lower() == 'd':\n",
    "            self._dogyears = float(value)\n",
    "        elif scale.lower() == 'h':\n",
    "            self._dogyears = value * 7\n",
    "        \n",
    "    \n",
    "    def d(self):\n",
    "        return str(self._dogyears) + ' year(s) old.'\n",
    "    def h(self):\n",
    "        return str(self._dogyears * 7) + ' year(s) old.'"
   ]
  },
  {
   "cell_type": "code",
   "execution_count": 2,
   "metadata": {},
   "outputs": [
    {
     "ename": "NameError",
     "evalue": "name 'd' is not defined",
     "output_type": "error",
     "traceback": [
      "\u001b[1;31m---------------------------------------------------------------------------\u001b[0m",
      "\u001b[1;31mNameError\u001b[0m                                 Traceback (most recent call last)",
      "\u001b[1;32m<ipython-input-2-f4f8fff05bab>\u001b[0m in \u001b[0;36m<module>\u001b[1;34m()\u001b[0m\n\u001b[1;32m----> 1\u001b[1;33m \u001b[0mKameron\u001b[0m \u001b[1;33m=\u001b[0m \u001b[0mYearsChanger\u001b[0m\u001b[1;33m(\u001b[0m\u001b[1;36m25\u001b[0m\u001b[1;33m,\u001b[0m \u001b[0md\u001b[0m\u001b[1;33m)\u001b[0m\u001b[1;33m\u001b[0m\u001b[0m\n\u001b[0m\u001b[0;32m      2\u001b[0m \u001b[0mKameron\u001b[0m\u001b[1;33m.\u001b[0m\u001b[0mh\u001b[0m\u001b[1;33m(\u001b[0m\u001b[1;33m)\u001b[0m\u001b[1;33m\u001b[0m\u001b[0m\n",
      "\u001b[1;31mNameError\u001b[0m: name 'd' is not defined"
     ]
    }
   ],
   "source": [
    "Kameron = YearsChanger(25, d)\n",
    "Kameron.h()"
   ]
  },
  {
   "cell_type": "code",
   "execution_count": 3,
   "metadata": {},
   "outputs": [],
   "source": [
    "class YearsChanger(object):\n",
    "    def __init__ (self, value):\n",
    "        self._dogyears = float(value)\n",
    "        \n",
    "    \n",
    "    def d(self):\n",
    "        return str(self._dogyears) + ' year(s) old.'\n",
    "    def h(self):\n",
    "        return str(self._dogyears * 7) + ' year(s) old.'"
   ]
  },
  {
   "cell_type": "code",
   "execution_count": 4,
   "metadata": {},
   "outputs": [],
   "source": [
    "Kameron = YearsChanger(100)"
   ]
  },
  {
   "cell_type": "code",
   "execution_count": 5,
   "metadata": {},
   "outputs": [
    {
     "data": {
      "text/plain": [
       "'700.0 year(s) old.'"
      ]
     },
     "execution_count": 5,
     "metadata": {},
     "output_type": "execute_result"
    }
   ],
   "source": [
    "Kameron.h()"
   ]
  },
  {
   "cell_type": "code",
   "execution_count": 6,
   "metadata": {},
   "outputs": [
    {
     "data": {
      "text/plain": [
       "'100.0 year(s) old.'"
      ]
     },
     "execution_count": 6,
     "metadata": {},
     "output_type": "execute_result"
    }
   ],
   "source": [
    "Kameron.d()"
   ]
  },
  {
   "cell_type": "code",
   "execution_count": 8,
   "metadata": {},
   "outputs": [],
   "source": [
    "class AgeChanger(object):\n",
    "    def __init__ (self, value):\n",
    "        self._dogyears = float(value)\n",
    "        self._humanyears = float(value)\n",
    "    \n",
    "    def d(self):\n",
    "        return str(self._humanyears / 7) + ' year(s) old in human age.'\n",
    "    def h(self):\n",
    "        return str(self._dogyears * 7) + ' year(s) old as in dog age.'"
   ]
  },
  {
   "cell_type": "code",
   "execution_count": 9,
   "metadata": {},
   "outputs": [],
   "source": [
    "Kameron = AgeChanger(100)"
   ]
  },
  {
   "cell_type": "code",
   "execution_count": 10,
   "metadata": {},
   "outputs": [
    {
     "data": {
      "text/plain": [
       "'14.285714285714286 year(s) old in human age.'"
      ]
     },
     "execution_count": 10,
     "metadata": {},
     "output_type": "execute_result"
    }
   ],
   "source": [
    "Kameron.d()"
   ]
  },
  {
   "cell_type": "code",
   "execution_count": 11,
   "metadata": {},
   "outputs": [],
   "source": [
    "class AgeChanger(object):\n",
    "    def __init__ (self, value):\n",
    "        self._dogyears = float(value)\n",
    "        self._humanyears = float(value)\n",
    "    \n",
    "    def d(self):\n",
    "        return str(self._humanyears / 7) + ' year(s) old in a dog age.'\n",
    "    def h(self):\n",
    "        return str(self._dogyears * 7) + ' year(s) old as in a human age.'"
   ]
  },
  {
   "cell_type": "code",
   "execution_count": 17,
   "metadata": {},
   "outputs": [],
   "source": [
    "class Age(object):\n",
    "    def __init__ (self, value, scale):\n",
    "        if scale.lower() == 'd':\n",
    "            self._years = float(value)\n",
    "        elif scale.lower() == 'h':\n",
    "            self._years = value * 7\n",
    "    \n",
    "    def d(self):\n",
    "        return str(self._years * 7) + ' year(s) old in human age.'\n",
    "    def h(self):\n",
    "        return str(self._years / 49) + ' year(s) old as in dog age.'"
   ]
  },
  {
   "cell_type": "code",
   "execution_count": 19,
   "metadata": {},
   "outputs": [
    {
     "data": {
      "text/plain": [
       "'4900 year(s) old in human age.'"
      ]
     },
     "execution_count": 19,
     "metadata": {},
     "output_type": "execute_result"
    }
   ],
   "source": [
    "Kameron = Age(100, 'h')\n",
    "Kameron.d()"
   ]
  },
  {
   "cell_type": "code",
   "execution_count": 21,
   "metadata": {},
   "outputs": [
    {
     "data": {
      "text/plain": [
       "'700.0 year(s) old in human age.'"
      ]
     },
     "execution_count": 21,
     "metadata": {},
     "output_type": "execute_result"
    }
   ],
   "source": [
    "Kameron = Age(100, 'd')\n",
    "Kameron.d()"
   ]
  },
  {
   "cell_type": "code",
   "execution_count": 22,
   "metadata": {},
   "outputs": [
    {
     "data": {
      "text/plain": [
       "'2.0408163265306123 year(s) old as in dog age.'"
      ]
     },
     "execution_count": 22,
     "metadata": {},
     "output_type": "execute_result"
    }
   ],
   "source": [
    "Kameron.h()"
   ]
  },
  {
   "cell_type": "code",
   "execution_count": 23,
   "metadata": {},
   "outputs": [],
   "source": [
    "class Age(object):\n",
    "    def __init__ (self, value, scale):\n",
    "        if scale.lower() == 'd':\n",
    "            self._years = float(value)\n",
    "        elif scale.lower() == 'h':\n",
    "            self._years = value / 7\n",
    "    \n",
    "    def d(self):\n",
    "        return str(self._years) + ' year(s) old in dog age.'\n",
    "    def h(self):\n",
    "        return str(self._years * 7) + ' year(s) old as in human age.'"
   ]
  },
  {
   "cell_type": "code",
   "execution_count": 25,
   "metadata": {},
   "outputs": [
    {
     "data": {
      "text/plain": [
       "'14.285714285714286 year(s) old in dog age.'"
      ]
     },
     "execution_count": 25,
     "metadata": {},
     "output_type": "execute_result"
    }
   ],
   "source": [
    "Karl = Age(100, 'h')\n",
    "Karl.d()"
   ]
  },
  {
   "cell_type": "code",
   "execution_count": 26,
   "metadata": {},
   "outputs": [
    {
     "data": {
      "text/plain": [
       "'100.0 year(s) old as in human age.'"
      ]
     },
     "execution_count": 26,
     "metadata": {},
     "output_type": "execute_result"
    }
   ],
   "source": [
    "Karl = Age(100, 'h')\n",
    "Karl.h()"
   ]
  },
  {
   "cell_type": "code",
   "execution_count": 27,
   "metadata": {},
   "outputs": [
    {
     "data": {
      "text/plain": [
       "'17.5 year(s) old as in human age.'"
      ]
     },
     "execution_count": 27,
     "metadata": {},
     "output_type": "execute_result"
    }
   ],
   "source": [
    "Karl = Age(2.5, 'd')\n",
    "Karl.h()"
   ]
  },
  {
   "cell_type": "code",
   "execution_count": 28,
   "metadata": {},
   "outputs": [
    {
     "data": {
      "text/plain": [
       "'0.35714285714285715 year(s) old in dog age.'"
      ]
     },
     "execution_count": 28,
     "metadata": {},
     "output_type": "execute_result"
    }
   ],
   "source": [
    "Karl = Age(2.5, 'h')\n",
    "Karl.d()"
   ]
  },
  {
   "cell_type": "code",
   "execution_count": 29,
   "metadata": {},
   "outputs": [
    {
     "data": {
      "text/plain": [
       "'2.5 year(s) old in dog age.'"
      ]
     },
     "execution_count": 29,
     "metadata": {},
     "output_type": "execute_result"
    }
   ],
   "source": [
    "Karl = Age(2.5, 'd')\n",
    "Karl.d()"
   ]
  },
  {
   "cell_type": "code",
   "execution_count": null,
   "metadata": {},
   "outputs": [],
   "source": []
  }
 ],
 "metadata": {
  "kernelspec": {
   "display_name": "Python 3",
   "language": "python",
   "name": "python3"
  },
  "language_info": {
   "codemirror_mode": {
    "name": "ipython",
    "version": 3
   },
   "file_extension": ".py",
   "mimetype": "text/x-python",
   "name": "python",
   "nbconvert_exporter": "python",
   "pygments_lexer": "ipython3",
   "version": "3.6.4"
  }
 },
 "nbformat": 4,
 "nbformat_minor": 2
}
