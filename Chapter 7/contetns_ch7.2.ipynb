{
 "cells": [
  {
   "cell_type": "code",
   "execution_count": 2,
   "metadata": {},
   "outputs": [
    {
     "data": {
      "text/plain": [
       "True"
      ]
     },
     "execution_count": 2,
     "metadata": {},
     "output_type": "execute_result"
    }
   ],
   "source": [
    "original = 'Civic'\n",
    "string = original.lower()\n",
    "string[0]\n",
    "string[-1]\n",
    "string[0] == string[-1]"
   ]
  },
  {
   "cell_type": "code",
   "execution_count": 3,
   "metadata": {},
   "outputs": [
    {
     "data": {
      "text/plain": [
       "'c'"
      ]
     },
     "execution_count": 3,
     "metadata": {},
     "output_type": "execute_result"
    }
   ],
   "source": [
    "string[0]"
   ]
  },
  {
   "cell_type": "code",
   "execution_count": 4,
   "metadata": {},
   "outputs": [
    {
     "data": {
      "text/plain": [
       "'c'"
      ]
     },
     "execution_count": 4,
     "metadata": {},
     "output_type": "execute_result"
    }
   ],
   "source": [
    "string[-1]"
   ]
  },
  {
   "cell_type": "code",
   "execution_count": 20,
   "metadata": {},
   "outputs": [],
   "source": [
    "def palindrome(string):\n",
    "\n",
    "    right = -1\n",
    "    pal = True    \n",
    "    \n",
    "    for letter in string:\n",
    "        pal = (pal and (letter == string[right]))\n",
    "        right = right - 1\n",
    "        \n",
    "        return pal"
   ]
  },
  {
   "cell_type": "code",
   "execution_count": 22,
   "metadata": {},
   "outputs": [
    {
     "data": {
      "text/plain": [
       "True"
      ]
     },
     "execution_count": 22,
     "metadata": {},
     "output_type": "execute_result"
    }
   ],
   "source": [
    "palindrome('civic')"
   ]
  },
  {
   "cell_type": "code",
   "execution_count": 74,
   "metadata": {},
   "outputs": [],
   "source": [
    "def palindrome_2(string):\n",
    "    right = -1\n",
    "    pal = True\n",
    "    \n",
    "    for letter in string:\n",
    "        pal = (pal and (letter == string[right]))\n",
    "        print(letter + string[right] + ': ' + str(letter == string[right]))\n",
    "        right = right - 1"
   ]
  },
  {
   "cell_type": "code",
   "execution_count": 75,
   "metadata": {},
   "outputs": [
    {
     "name": "stdout",
     "output_type": "stream",
     "text": [
      "Cc: False\n",
      "ii: True\n",
      "vv: True\n",
      "ii: True\n",
      "cC: False\n"
     ]
    }
   ],
   "source": [
    "palindrome_2('Civic')"
   ]
  },
  {
   "cell_type": "code",
   "execution_count": 76,
   "metadata": {},
   "outputs": [
    {
     "name": "stdout",
     "output_type": "stream",
     "text": [
      "cc: True\n",
      "ii: True\n",
      "vv: True\n",
      "ii: True\n",
      "cc: True\n"
     ]
    }
   ],
   "source": [
    "palindrome_2('civic')"
   ]
  },
  {
   "cell_type": "code",
   "execution_count": 77,
   "metadata": {},
   "outputs": [
    {
     "name": "stdout",
     "output_type": "stream",
     "text": [
      "cc: True\n",
      "ai: False\n",
      "vv: True\n",
      "ia: False\n",
      "cc: True\n"
     ]
    }
   ],
   "source": [
    "palindrome_2('cavic')"
   ]
  },
  {
   "cell_type": "code",
   "execution_count": 78,
   "metadata": {},
   "outputs": [],
   "source": [
    "def pal(text):\n",
    "    return text.lower() == text[::-1].lower()"
   ]
  },
  {
   "cell_type": "code",
   "execution_count": 79,
   "metadata": {},
   "outputs": [
    {
     "data": {
      "text/plain": [
       "True"
      ]
     },
     "execution_count": 79,
     "metadata": {},
     "output_type": "execute_result"
    }
   ],
   "source": [
    "pal('civic')"
   ]
  },
  {
   "cell_type": "code",
   "execution_count": 80,
   "metadata": {},
   "outputs": [
    {
     "data": {
      "text/plain": [
       "True"
      ]
     },
     "execution_count": 80,
     "metadata": {},
     "output_type": "execute_result"
    }
   ],
   "source": [
    "pal('Civic')"
   ]
  },
  {
   "cell_type": "code",
   "execution_count": 1,
   "metadata": {},
   "outputs": [],
   "source": [
    "def palr(text):\n",
    "    lowercase = text.lower()\n",
    "    if len(lowercase) <= 1:\n",
    "        return True\n",
    "    else:\n",
    "        if lowercase[0] == lowercase[-1]:\n",
    "            return palr(lowercase[1:-1])\n",
    "        else:\n",
    "            return False"
   ]
  },
  {
   "cell_type": "code",
   "execution_count": 2,
   "metadata": {},
   "outputs": [
    {
     "data": {
      "text/plain": [
       "True"
      ]
     },
     "execution_count": 2,
     "metadata": {},
     "output_type": "execute_result"
    }
   ],
   "source": [
    "palr('civic')"
   ]
  },
  {
   "cell_type": "code",
   "execution_count": 3,
   "metadata": {},
   "outputs": [
    {
     "data": {
      "text/plain": [
       "False"
      ]
     },
     "execution_count": 3,
     "metadata": {},
     "output_type": "execute_result"
    }
   ],
   "source": [
    "palr('염경석')"
   ]
  },
  {
   "cell_type": "code",
   "execution_count": 7,
   "metadata": {},
   "outputs": [],
   "source": [
    "def pali(text):\n",
    "    right = -1\n",
    "    pal = True\n",
    "    \n",
    "    for letter in text:\n",
    "        pal = (pal and (letter == text[right]))\n",
    "        print(letter + text[right] + ': ' + str(letter == text[right]))\n",
    "        right = right - 1"
   ]
  },
  {
   "cell_type": "code",
   "execution_count": 21,
   "metadata": {},
   "outputs": [],
   "source": [
    "def pal(text):\n",
    "    return text.lower() == text[::-1].lower()\n",
    "\n",
    "def pali(text):\n",
    "    right = -1\n",
    "    pal = True\n",
    "    \n",
    "    for letter in text:\n",
    "        pal = (pal and (letter == text[right]))\n",
    "        print(letter + text[right] + ': ' + str(letter == text[right]))\n",
    "        right = right - 1\n",
    "\n",
    "def palr(text):\n",
    "    pali(text)\n",
    "    return pal(text)"
   ]
  },
  {
   "cell_type": "code",
   "execution_count": 23,
   "metadata": {},
   "outputs": [
    {
     "name": "stdout",
     "output_type": "stream",
     "text": [
      "cc: True\n",
      "ii: True\n",
      "vv: True\n",
      "ii: True\n",
      "cc: True\n"
     ]
    },
    {
     "data": {
      "text/plain": [
       "True"
      ]
     },
     "execution_count": 23,
     "metadata": {},
     "output_type": "execute_result"
    }
   ],
   "source": [
    "palr('civic')"
   ]
  },
  {
   "cell_type": "code",
   "execution_count": 24,
   "metadata": {},
   "outputs": [
    {
     "name": "stdout",
     "output_type": "stream",
     "text": [
      "je: False\n",
      "an: False\n",
      "na: False\n",
      "ej: False\n"
     ]
    },
    {
     "data": {
      "text/plain": [
       "False"
      ]
     },
     "execution_count": 24,
     "metadata": {},
     "output_type": "execute_result"
    }
   ],
   "source": [
    "palr('jane')"
   ]
  },
  {
   "cell_type": "code",
   "execution_count": null,
   "metadata": {},
   "outputs": [],
   "source": []
  }
 ],
 "metadata": {
  "kernelspec": {
   "display_name": "Python 3",
   "language": "python",
   "name": "python3"
  },
  "language_info": {
   "codemirror_mode": {
    "name": "ipython",
    "version": 3
   },
   "file_extension": ".py",
   "mimetype": "text/x-python",
   "name": "python",
   "nbconvert_exporter": "python",
   "pygments_lexer": "ipython3",
   "version": "3.6.4"
  }
 },
 "nbformat": 4,
 "nbformat_minor": 2
}
