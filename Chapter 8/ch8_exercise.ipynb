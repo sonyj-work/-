{
 "cells": [
  {
   "cell_type": "code",
   "execution_count": 2,
   "metadata": {},
   "outputs": [],
   "source": [
    "from PIL import Image"
   ]
  },
  {
   "cell_type": "code",
   "execution_count": 8,
   "metadata": {},
   "outputs": [],
   "source": [
    "def flop(pngimage):\n",
    "    length = pngimage.size[1]\n",
    "    \n",
    "    if length % 2 == 0:\n",
    "        length_half = length // 2\n",
    "    else:\n",
    "        length_half = (length - 1) // 2\n",
    "        \n",
    "    \n",
    "    for x in range(pngimage.size[0]):\n",
    "        for y in range(length_half):\n",
    "            down = pngimage.getpixel((x, y))\n",
    "            up = pngimage.getpixel((x, length - y - 1))\n",
    "            pngimage.putpixel((x, length - y - 1), down)\n",
    "            pngimage.putpixel((x, y), up)"
   ]
  },
  {
   "cell_type": "code",
   "execution_count": 9,
   "metadata": {},
   "outputs": [],
   "source": [
    "testimage = Image.open('flipme.png')\n",
    "flop(testimage)\n",
    "testimage.save('flopped.png')"
   ]
  },
  {
   "cell_type": "code",
   "execution_count": null,
   "metadata": {},
   "outputs": [],
   "source": []
  }
 ],
 "metadata": {
  "kernelspec": {
   "display_name": "Python 3",
   "language": "python",
   "name": "python3"
  },
  "language_info": {
   "codemirror_mode": {
    "name": "ipython",
    "version": 3
   },
   "file_extension": ".py",
   "mimetype": "text/x-python",
   "name": "python",
   "nbconvert_exporter": "python",
   "pygments_lexer": "ipython3",
   "version": "3.6.4"
  }
 },
 "nbformat": 4,
 "nbformat_minor": 2
}
