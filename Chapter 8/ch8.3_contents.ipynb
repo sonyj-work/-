{
 "cells": [
  {
   "cell_type": "code",
   "execution_count": 7,
   "metadata": {},
   "outputs": [],
   "source": [
    "from PIL import Image"
   ]
  },
  {
   "cell_type": "code",
   "execution_count": 3,
   "metadata": {},
   "outputs": [],
   "source": [
    "allblack = Image.new('RGB', (100, 100), (0, 0, 0))"
   ]
  },
  {
   "cell_type": "code",
   "execution_count": 4,
   "metadata": {},
   "outputs": [],
   "source": [
    "allblack.putpixel((50,50), (255, 255, 255))"
   ]
  },
  {
   "cell_type": "code",
   "execution_count": 5,
   "metadata": {},
   "outputs": [],
   "source": [
    "allblack.save('almostall.png')"
   ]
  },
  {
   "cell_type": "code",
   "execution_count": 6,
   "metadata": {},
   "outputs": [],
   "source": [
    "rectangle = Image.new('RGB', (150, 100), (0, 0, 0))"
   ]
  },
  {
   "cell_type": "code",
   "execution_count": 7,
   "metadata": {},
   "outputs": [],
   "source": [
    "for x in range(150):\n",
    "    for y in range(100):\n",
    "        rectangle.putpixel((x, y), (127, 127 ,127))"
   ]
  },
  {
   "cell_type": "code",
   "execution_count": 8,
   "metadata": {},
   "outputs": [],
   "source": [
    "rectangle.save('rectangle.png')"
   ]
  },
  {
   "cell_type": "code",
   "execution_count": 9,
   "metadata": {},
   "outputs": [],
   "source": [
    "for x in range(150):\n",
    "    for y in range(100):\n",
    "        rectangle.putpixel((x, y), (x, x ,x))"
   ]
  },
  {
   "cell_type": "code",
   "execution_count": 10,
   "metadata": {},
   "outputs": [],
   "source": [
    "rectangle.save('gradient.png')"
   ]
  },
  {
   "cell_type": "code",
   "execution_count": 11,
   "metadata": {},
   "outputs": [
    {
     "data": {
      "text/plain": [
       "(150, 100)"
      ]
     },
     "execution_count": 11,
     "metadata": {},
     "output_type": "execute_result"
    }
   ],
   "source": [
    "rectangle.size"
   ]
  },
  {
   "cell_type": "code",
   "execution_count": 12,
   "metadata": {},
   "outputs": [],
   "source": [
    "bigger = Image.new('RGB', (500, 600), (0, 0,0 ))"
   ]
  },
  {
   "cell_type": "code",
   "execution_count": 13,
   "metadata": {},
   "outputs": [
    {
     "data": {
      "text/plain": [
       "(500, 600)"
      ]
     },
     "execution_count": 13,
     "metadata": {},
     "output_type": "execute_result"
    }
   ],
   "source": [
    "bigger.size"
   ]
  },
  {
   "cell_type": "raw",
   "metadata": {},
   "source": [
    "bigger.size[0]"
   ]
  },
  {
   "cell_type": "code",
   "execution_count": 14,
   "metadata": {},
   "outputs": [
    {
     "data": {
      "text/plain": [
       "600"
      ]
     },
     "execution_count": 14,
     "metadata": {},
     "output_type": "execute_result"
    }
   ],
   "source": [
    "bigger.size[1]"
   ]
  },
  {
   "cell_type": "code",
   "execution_count": 15,
   "metadata": {},
   "outputs": [
    {
     "data": {
      "text/plain": [
       "500"
      ]
     },
     "execution_count": 15,
     "metadata": {},
     "output_type": "execute_result"
    }
   ],
   "source": [
    "bigger.size[0]"
   ]
  },
  {
   "cell_type": "code",
   "execution_count": 16,
   "metadata": {},
   "outputs": [],
   "source": [
    "def grayout(pngimage):\n",
    "    for x in range(150):\n",
    "        for y in range(100):\n",
    "            pngimage.putpixel((x, y), (127, 127, 127))"
   ]
  },
  {
   "cell_type": "code",
   "execution_count": 17,
   "metadata": {},
   "outputs": [],
   "source": [
    "test = Image.new('RGB', (150, 100), (0, 0, 0))"
   ]
  },
  {
   "cell_type": "code",
   "execution_count": 18,
   "metadata": {},
   "outputs": [],
   "source": [
    "grayout(test)"
   ]
  },
  {
   "cell_type": "code",
   "execution_count": 19,
   "metadata": {},
   "outputs": [],
   "source": [
    "test.save('test1.png')"
   ]
  },
  {
   "cell_type": "code",
   "execution_count": 22,
   "metadata": {},
   "outputs": [],
   "source": [
    "ourimage = Image.open('resize.png')"
   ]
  },
  {
   "cell_type": "code",
   "execution_count": 23,
   "metadata": {},
   "outputs": [],
   "source": [
    "grayout(ourimage)"
   ]
  },
  {
   "cell_type": "code",
   "execution_count": 24,
   "metadata": {},
   "outputs": [],
   "source": [
    "ourimage.save('ournew.png')"
   ]
  },
  {
   "cell_type": "code",
   "execution_count": 25,
   "metadata": {},
   "outputs": [
    {
     "data": {
      "text/plain": [
       "(127, 127, 127, 255)"
      ]
     },
     "execution_count": 25,
     "metadata": {},
     "output_type": "execute_result"
    }
   ],
   "source": [
    "ourimage.getpixel((0, 0))"
   ]
  },
  {
   "cell_type": "code",
   "execution_count": 26,
   "metadata": {},
   "outputs": [],
   "source": [
    "def modify(pngimage):\n",
    "    for x in ____:\n",
    "        for y in ____:\n",
    "            (r, g, b) = pngimage.getpixel((x,y))\n",
    "            pngimage.putpixel((x, y), (r, g, b))"
   ]
  },
  {
   "cell_type": "code",
   "execution_count": 29,
   "metadata": {},
   "outputs": [],
   "source": [
    "def modify_br(pngimage):\n",
    "    for x in range(425):\n",
    "        for y in range(425):\n",
    "            (r, g, b) = pngimage.getpixel((x,y))\n",
    "            pngimage.putpixel((x, y), (r + 64, g, b))"
   ]
  },
  {
   "cell_type": "code",
   "execution_count": 32,
   "metadata": {},
   "outputs": [],
   "source": [
    "def modify(pngimage):\n",
    "    for x in ____:\n",
    "        for y in ____:\n",
    "            (r, g, b) = pngimage.getpixel((x, y))[:3]\n",
    "            new_color = (r + 64, g + 64, b + 64)\n",
    "            new_color = new_color + pngimage.getpixel((x, y))[3:]\n",
    "            pngimage.putpixel((x, y), new_color)"
   ]
  },
  {
   "cell_type": "code",
   "execution_count": 1,
   "metadata": {},
   "outputs": [],
   "source": [
    "def contrast(pngimage):\n",
    "    for x in ____:\n",
    "        for y in ____:\n",
    "            if r + g + b < 382.5:\n",
    "                pngimage.putpixel((x,y), (r - 64, g - 64, b- 65, a))\n",
    "            else:\n",
    "                pngimage.putpixel((x,y) (r + 64, g +64, b + 64, a))"
   ]
  },
  {
   "cell_type": "code",
   "execution_count": 2,
   "metadata": {},
   "outputs": [],
   "source": [
    "a = 17\n",
    "b = 2"
   ]
  },
  {
   "cell_type": "code",
   "execution_count": 3,
   "metadata": {},
   "outputs": [],
   "source": [
    "temp = a\n",
    "a =  b\n",
    "b = temp"
   ]
  },
  {
   "cell_type": "code",
   "execution_count": 4,
   "metadata": {},
   "outputs": [
    {
     "data": {
      "text/plain": [
       "(2, 17)"
      ]
     },
     "execution_count": 4,
     "metadata": {},
     "output_type": "execute_result"
    }
   ],
   "source": [
    "(a, b)"
   ]
  },
  {
   "cell_type": "code",
   "execution_count": 10,
   "metadata": {},
   "outputs": [],
   "source": [
    "def flip(pngimage):\n",
    "    width = pngimage.size[0]\n",
    "    for y in range(pngimage.size[1]):\n",
    "        for x in range(width):\n",
    "            left = pngimage.getpixel((x, y))\n",
    "            right = pngimage.getpixel((width - 1 - x, y))\n",
    "            pngimage.putpixel((width - 1 - x, y), left)\n",
    "            pngimage.putpixel((x, y), right)"
   ]
  },
  {
   "cell_type": "code",
   "execution_count": 12,
   "metadata": {
    "scrolled": true
   },
   "outputs": [],
   "source": [
    "testimage = Image.open('flipme.png')\n",
    "flip(testimage)\n",
    "testimage.save('flipped.png')"
   ]
  },
  {
   "cell_type": "code",
   "execution_count": 60,
   "metadata": {},
   "outputs": [],
   "source": [
    "def flip_2(pngimage):\n",
    "    width = pngimage.size[0]\n",
    "    \n",
    "    if width % 2 == 0:\n",
    "        width_half = width // 2\n",
    "    else:\n",
    "        width_half = (width - 1) // 2\n",
    "        \n",
    "        ## 연산 결과로 /는 float 를 가지고 //는 integer를 가짐.\n",
    "    \n",
    "    for y in range(pngimage.size[1]):\n",
    "        for x in range(width_half):\n",
    "            left = pngimage.getpixel((x, y))\n",
    "            right = pngimage.getpixel((width - 1 - x, y))\n",
    "            pngimage.putpixel((width - 1 - x, y), left)\n",
    "            pngimage.putpixel((x, y), right)"
   ]
  },
  {
   "cell_type": "code",
   "execution_count": 59,
   "metadata": {},
   "outputs": [],
   "source": [
    "testimage = Image.open('flipme.png')\n",
    "flip_2(testimage)\n",
    "testimage.save('flipped.png')"
   ]
  },
  {
   "cell_type": "code",
   "execution_count": 22,
   "metadata": {},
   "outputs": [
    {
     "ename": "NameError",
     "evalue": "name 'width_half' is not defined",
     "output_type": "error",
     "traceback": [
      "\u001b[1;31m---------------------------------------------------------------------------\u001b[0m",
      "\u001b[1;31mNameError\u001b[0m                                 Traceback (most recent call last)",
      "\u001b[1;32m<ipython-input-22-776e59f2744c>\u001b[0m in \u001b[0;36m<module>\u001b[1;34m()\u001b[0m\n\u001b[1;32m----> 1\u001b[1;33m \u001b[0mwidth_half\u001b[0m\u001b[1;33m\u001b[0m\u001b[0m\n\u001b[0m",
      "\u001b[1;31mNameError\u001b[0m: name 'width_half' is not defined"
     ]
    }
   ],
   "source": [
    "width_half"
   ]
  },
  {
   "cell_type": "code",
   "execution_count": null,
   "metadata": {},
   "outputs": [],
   "source": []
  }
 ],
 "metadata": {
  "kernelspec": {
   "display_name": "Python 3",
   "language": "python",
   "name": "python3"
  },
  "language_info": {
   "codemirror_mode": {
    "name": "ipython",
    "version": 3
   },
   "file_extension": ".py",
   "mimetype": "text/x-python",
   "name": "python",
   "nbconvert_exporter": "python",
   "pygments_lexer": "ipython3",
   "version": "3.6.4"
  }
 },
 "nbformat": 4,
 "nbformat_minor": 2
}
